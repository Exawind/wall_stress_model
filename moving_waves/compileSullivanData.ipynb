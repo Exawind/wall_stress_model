{
 "cells": [
  {
   "cell_type": "markdown",
   "metadata": {},
   "source": [
    "### Comparison of nalu-wind data with Sullivan et al. 2008\n",
    "\n",
    "Data digitized from Sullivan et al. 2008 paper"
   ]
  },
  {
   "cell_type": "code",
   "execution_count": 20,
   "metadata": {},
   "outputs": [],
   "source": [
    "%%capture\n",
    "# Import libraries\n",
    "import sys\n",
    "import numpy as np\n",
    "from scipy import interpolate\n",
    "import matplotlib.pyplot as plt\n",
    "from matplotlib import rcParams\n",
    "%matplotlib inline\n",
    "plt.rc('text',usetex=True)\n",
    "plt.rc('font',family='serif')\n",
    "rcParams.update({'figure.autolayout': True})"
   ]
  },
  {
   "cell_type": "code",
   "execution_count": 98,
   "metadata": {},
   "outputs": [],
   "source": [
    "# Peter Sullivan data\n",
    "sully_path='sullivan_data/'\n",
    "sully_origin=sully_path+'original_data/'\n",
    "#Compile data\n",
    "Npoints=200;\n",
    "MultiArray=np.zeros((Npoints,6))\n",
    "Cases = ['NoWaves','Bumps','WindFollowing','WindOpposing']\n",
    "Stats = ['U','V','u2','v2','w2']\n",
    "for icase in Cases:\n",
    "    Z=np.linspace(0,1,Npoints)\n",
    "    icount=0\n",
    "    MultiArray[:,icount]=Z\n",
    "    for istat in Stats:\n",
    "        icount +=1\n",
    "        Data=np.genfromtxt(sully_origin+istat+icase+'.csv',delimiter=',')\n",
    "        array1=Data[:,0]\n",
    "        array2=Data[:,1]    \n",
    "        int_array=np.interp(Z,array2,array1)\n",
    "    \n",
    "        MultiArray[:,icount]=int_array[:]\n",
    "    \n",
    "    with open(sully_path+icase+'.dat','w') as fout:\n",
    "        fout.write('# Z, U , V, u2, v2, w2 \\n')\n",
    "        for k in range(0,Npoints):\n",
    "            fout.write(str(MultiArray[k,0])+','+\n",
    "                       str(MultiArray[k,1])+','+\n",
    "                       str(MultiArray[k,2])+','+\n",
    "                       str(MultiArray[k,3])+','+\n",
    "                       str(MultiArray[k,4])+','+\n",
    "                       str(MultiArray[k,5])+'\\n')\n",
    "        \n"
   ]
  },
  {
   "cell_type": "code",
   "execution_count": null,
   "metadata": {},
   "outputs": [],
   "source": []
  },
  {
   "cell_type": "code",
   "execution_count": null,
   "metadata": {},
   "outputs": [],
   "source": []
  }
 ],
 "metadata": {
  "kernelspec": {
   "display_name": "Python 3",
   "language": "python",
   "name": "python3"
  },
  "language_info": {
   "codemirror_mode": {
    "name": "ipython",
    "version": 3
   },
   "file_extension": ".py",
   "mimetype": "text/x-python",
   "name": "python",
   "nbconvert_exporter": "python",
   "pygments_lexer": "ipython3",
   "version": "3.7.4"
  }
 },
 "nbformat": 4,
 "nbformat_minor": 2
}
